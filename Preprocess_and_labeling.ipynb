{
 "cells": [
  {
   "cell_type": "code",
   "execution_count": 1,
   "metadata": {},
   "outputs": [
    {
     "name": "stderr",
     "output_type": "stream",
     "text": [
      "c:\\Python311\\Lib\\site-packages\\pkg_resources\\__init__.py:123: PkgResourcesDeprecationWarning: p is an invalid version and will not be supported in a future release\n",
      "  warnings.warn(\n"
     ]
    },
    {
     "ename": "FileNotFoundError",
     "evalue": "[Errno 2] No such file or directory: ''",
     "output_type": "error",
     "traceback": [
      "\u001b[1;31m---------------------------------------------------------------------------\u001b[0m",
      "\u001b[1;31mFileNotFoundError\u001b[0m                         Traceback (most recent call last)",
      "\u001b[1;32mc:\\Users\\Leo\\Desktop\\Final EARTHQUKAES\\Preprocess_and_labeling.ipynb Cell 1\u001b[0m line \u001b[0;36m1\n\u001b[0;32m     <a href='vscode-notebook-cell:/c%3A/Users/Leo/Desktop/Final%20EARTHQUKAES/Preprocess_and_labeling.ipynb#W0sZmlsZQ%3D%3D?line=15'>16</a>\u001b[0m \u001b[39mfrom\u001b[39;00m \u001b[39mobspy\u001b[39;00m\u001b[39m.\u001b[39;00m\u001b[39mcore\u001b[39;00m \u001b[39mimport\u001b[39;00m read\n\u001b[0;32m     <a href='vscode-notebook-cell:/c%3A/Users/Leo/Desktop/Final%20EARTHQUKAES/Preprocess_and_labeling.ipynb#W0sZmlsZQ%3D%3D?line=16'>17</a>\u001b[0m \u001b[39mfrom\u001b[39;00m \u001b[39mobspy\u001b[39;00m\u001b[39m.\u001b[39;00m\u001b[39msignal\u001b[39;00m\u001b[39m.\u001b[39;00m\u001b[39mtrigger\u001b[39;00m \u001b[39mimport\u001b[39;00m plot_trigger\n\u001b[1;32m---> <a href='vscode-notebook-cell:/c%3A/Users/Leo/Desktop/Final%20EARTHQUKAES/Preprocess_and_labeling.ipynb#W0sZmlsZQ%3D%3D?line=17'>18</a>\u001b[0m st \u001b[39m=\u001b[39m read(\u001b[39m\"\u001b[39;49m\u001b[39m\"\u001b[39;49m)\n\u001b[0;32m     <a href='vscode-notebook-cell:/c%3A/Users/Leo/Desktop/Final%20EARTHQUKAES/Preprocess_and_labeling.ipynb#W0sZmlsZQ%3D%3D?line=18'>19</a>\u001b[0m st \u001b[39m=\u001b[39m st\u001b[39m.\u001b[39mselect(channel\u001b[39m=\u001b[39m\u001b[39m\"\u001b[39m\u001b[39mHHZ\u001b[39m\u001b[39m\"\u001b[39m)\n\u001b[0;32m     <a href='vscode-notebook-cell:/c%3A/Users/Leo/Desktop/Final%20EARTHQUKAES/Preprocess_and_labeling.ipynb#W0sZmlsZQ%3D%3D?line=19'>20</a>\u001b[0m st \n",
      "File \u001b[1;32m~\\AppData\\Roaming\\Python\\Python311\\site-packages\\decorator.py:232\u001b[0m, in \u001b[0;36mdecorate.<locals>.fun\u001b[1;34m(*args, **kw)\u001b[0m\n\u001b[0;32m    230\u001b[0m \u001b[39mif\u001b[39;00m \u001b[39mnot\u001b[39;00m kwsyntax:\n\u001b[0;32m    231\u001b[0m     args, kw \u001b[39m=\u001b[39m fix(args, kw, sig)\n\u001b[1;32m--> 232\u001b[0m \u001b[39mreturn\u001b[39;00m caller(func, \u001b[39m*\u001b[39;49m(extras \u001b[39m+\u001b[39;49m args), \u001b[39m*\u001b[39;49m\u001b[39m*\u001b[39;49mkw)\n",
      "File \u001b[1;32mc:\\Python311\\Lib\\site-packages\\obspy\\core\\util\\decorator.py:297\u001b[0m, in \u001b[0;36mmap_example_filename.<locals>._map_example_filename\u001b[1;34m(func, *args, **kwargs)\u001b[0m\n\u001b[0;32m    295\u001b[0m                 \u001b[39mexcept\u001b[39;00m \u001b[39mIOError\u001b[39;00m:\n\u001b[0;32m    296\u001b[0m                     \u001b[39mpass\u001b[39;00m\n\u001b[1;32m--> 297\u001b[0m \u001b[39mreturn\u001b[39;00m func(\u001b[39m*\u001b[39;49margs, \u001b[39m*\u001b[39;49m\u001b[39m*\u001b[39;49mkwargs)\n",
      "File \u001b[1;32mc:\\Python311\\Lib\\site-packages\\obspy\\core\\stream.py:208\u001b[0m, in \u001b[0;36mread\u001b[1;34m(pathname_or_url, format, headonly, starttime, endtime, nearest_sample, dtype, apply_calib, check_compression, **kwargs)\u001b[0m\n\u001b[0;32m    206\u001b[0m     st \u001b[39m=\u001b[39m _create_example_stream(headonly\u001b[39m=\u001b[39mheadonly)\n\u001b[0;32m    207\u001b[0m \u001b[39melse\u001b[39;00m:\n\u001b[1;32m--> 208\u001b[0m     st \u001b[39m=\u001b[39m _generic_reader(pathname_or_url, _read, \u001b[39m*\u001b[39;49m\u001b[39m*\u001b[39;49mkwargs)\n\u001b[0;32m    210\u001b[0m \u001b[39mif\u001b[39;00m \u001b[39mlen\u001b[39m(st) \u001b[39m==\u001b[39m \u001b[39m0\u001b[39m:\n\u001b[0;32m    211\u001b[0m     \u001b[39m# try to give more specific information why the stream is empty\u001b[39;00m\n\u001b[0;32m    212\u001b[0m     \u001b[39mif\u001b[39;00m has_magic(pathname_or_url) \u001b[39mand\u001b[39;00m \u001b[39mnot\u001b[39;00m glob(pathname_or_url):\n",
      "File \u001b[1;32mc:\\Python311\\Lib\\site-packages\\obspy\\core\\util\\base.py:656\u001b[0m, in \u001b[0;36m_generic_reader\u001b[1;34m(pathname_or_url, callback_func, **kwargs)\u001b[0m\n\u001b[0;32m    654\u001b[0m         \u001b[39mraise\u001b[39;00m \u001b[39mException\u001b[39;00m(\u001b[39m\"\u001b[39m\u001b[39mNo file matching file pattern: \u001b[39m\u001b[39m%s\u001b[39;00m\u001b[39m\"\u001b[39m \u001b[39m%\u001b[39m pathname)\n\u001b[0;32m    655\u001b[0m     \u001b[39melif\u001b[39;00m \u001b[39mnot\u001b[39;00m glob\u001b[39m.\u001b[39mhas_magic(pathname) \u001b[39mand\u001b[39;00m \u001b[39mnot\u001b[39;00m Path(pathname)\u001b[39m.\u001b[39mis_file():\n\u001b[1;32m--> 656\u001b[0m         \u001b[39mraise\u001b[39;00m \u001b[39mIOError\u001b[39;00m(\u001b[39m2\u001b[39m, \u001b[39m\"\u001b[39m\u001b[39mNo such file or directory\u001b[39m\u001b[39m\"\u001b[39m, pathname)\n\u001b[0;32m    658\u001b[0m generic \u001b[39m=\u001b[39m callback_func(pathnames[\u001b[39m0\u001b[39m], \u001b[39m*\u001b[39m\u001b[39m*\u001b[39mkwargs)\n\u001b[0;32m    659\u001b[0m \u001b[39mif\u001b[39;00m \u001b[39mlen\u001b[39m(pathnames) \u001b[39m>\u001b[39m \u001b[39m1\u001b[39m:\n",
      "\u001b[1;31mFileNotFoundError\u001b[0m: [Errno 2] No such file or directory: ''"
     ]
    }
   ],
   "source": [
    "from obspy import read\n",
    "from obspy.signal.trigger import carl_sta_trig\n",
    "from obspy.signal.trigger import recursive_sta_lta\n",
    "from obspy.signal.trigger import ar_pick\n",
    "from obspy.signal.trigger import z_detect\n",
    "from obspy.signal.trigger import trigger_onset\n",
    "from obspy.signal.trigger import plot_trigger\n",
    "from obspy.signal.trigger import coincidence_trigger\n",
    "from obspy.signal.trigger import coincidence_trigger, plot_trigger, trigger_onset\n",
    "import numpy as np\n",
    "import obspy\n",
    "import os\n",
    "from obspy.signal.trigger import z_detect\n",
    "\n",
    "\n",
    "\n",
    "from obspy.core import read\n",
    "from obspy.signal.trigger import plot_trigger\n",
    "st = read(\"\")\n",
    "st = st.select(channel=\"HHZ\")\n",
    "st \n",
    "print(st)  \n",
    "print(st[0].stats) \n"
   ]
  },
  {
   "cell_type": "code",
   "execution_count": null,
   "metadata": {},
   "outputs": [],
   "source": [
    "x = len(st)\n",
    "i=0\n",
    "for i in range(x):\n",
    "    trace = read(\"\")[i]\n",
    "    trace = st[i]\n",
    "    df = trace.stats.sampling_rate\n",
    "    from obspy.signal.trigger import classic_sta_lta\n",
    "    cft = z_detect(trace.data, int(0.5 * df))\n",
    "    plot_trigger(trace, cft, 9, 0.5)"
   ]
  },
  {
   "cell_type": "code",
   "execution_count": null,
   "metadata": {},
   "outputs": [],
   "source": [
    "\n",
    "\n",
    "# Path to the directory containing the mseed files\n",
    "mseed_dir = \"\"\n",
    "\n",
    "# Define the trigger threshold\n",
    "threshold = 5.0  # Example threshold value, adjust as needed\n",
    "\n",
    "# Loop through each mseed file in the directory\n",
    "for filename in os.listdir(mseed_dir):\n",
    "    if filename.endswith(\".mseed\"):\n",
    "        # Read in the mseed file\n",
    "        st = obspy.read(os.path.join(mseed_dir, filename))\n",
    "\n",
    "        # Counter for CSV files\n",
    "        event_counter = 0\n",
    "\n",
    "        # Iterate over each event in the file\n",
    "        for i, event in enumerate(st):\n",
    "            if event.stats.channel == \"HHZ\":  # Filter only the HHZ channel\n",
    "                # Create a new CSV file for the event\n",
    "                csv_filename = f\"{os.path.splitext(filename)[0]}_event{event_counter}.csv\"\n",
    "                event_counter += 1\n",
    "                # Extract metadata from the event\n",
    "                station = event.stats.station\n",
    "                channel = event.stats.channel\n",
    "                starttime = event.stats.starttime\n",
    "\n",
    "                # Calculate the Z-score of the event data\n",
    "                df = event.stats.sampling_rate\n",
    "                z_scores = z_detect(event.data, int(0.5 * df))\n",
    "\n",
    "                # Find indices where the Z-score values exceed the threshold\n",
    "                trigger_indices = np.where(z_scores > threshold)[0]\n",
    "\n",
    "                # Find the first trigger onset index and last trigger off index\n",
    "                if len(trigger_indices) > 0:\n",
    "                    first_onset_index = trigger_indices[0]\n",
    "                    first_onset_time = starttime + first_onset_index / event.stats.sampling_rate\n",
    "\n",
    "                    last_off_index = trigger_indices[-1]\n",
    "                    last_off_time = starttime + last_off_index / event.stats.sampling_rate\n",
    "\n",
    "                    # Print the first trigger onset index and last trigger off index for each event\n",
    "                    print(f\"Event {i+1}, Channel {channel}:\")\n",
    "                    print(f\"First Trigger onset index: {first_onset_index}, Time: {first_onset_time}\")\n",
    "                    print(f\"Last Trigger off index: {last_off_index}, Time: {last_off_time}\")\n",
    "\n",
    "                    # Write the event data to the CSV file with metadata as a header\n",
    "                    with open(csv_filename, \"w\") as f:\n",
    "                        f.write(\"Timestamp, Value, label\\n\")\n",
    "                        for t, v in zip(event.times(), event.data):\n",
    "                            timestamp = (starttime + t).strftime(\"%Y-%m-%dT%H:%M:%S.%fZ\")\n",
    "                            label = 'quake' if first_onset_time <= starttime + t <= last_off_time else 'noise'\n",
    "                            f.write(f\"{timestamp}, {v}, {label}\\n\")\n",
    "\n",
    "                else:\n",
    "                    print(f\"No triggers found for Event {i+1}, Channel {channel}.\")\n"
   ]
  }
 ],
 "metadata": {
  "kernelspec": {
   "display_name": "Python 3",
   "language": "python",
   "name": "python3"
  },
  "language_info": {
   "codemirror_mode": {
    "name": "ipython",
    "version": 3
   },
   "file_extension": ".py",
   "mimetype": "text/x-python",
   "name": "python",
   "nbconvert_exporter": "python",
   "pygments_lexer": "ipython3",
   "version": "3.11.4"
  },
  "orig_nbformat": 4
 },
 "nbformat": 4,
 "nbformat_minor": 2
}
